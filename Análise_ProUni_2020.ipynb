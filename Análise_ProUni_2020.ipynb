{
 "cells": [
  {
   "cell_type": "code",
   "execution_count": null,
   "id": "44daabd5-c5f0-4b23-af9c-ab06fc2b73e8",
   "metadata": {
    "scrolled": true
   },
   "outputs": [],
   "source": [
    "#carregamento dos dados\n",
    "import pandas as pd\n",
    "\n",
    "# Carregar o arquivo CSV doa dados do Prouni em um DataFrame\n",
    "df = pd.read_csv(\"ProuniRelatorioDadosAbertos2020.csv\", delimiter=\";\", encoding=\"ISO-8859-1\")\n",
    "\n",
    "# Exibir as primeiras linhas\n",
    "print(df.head(2))"
   ]
  },
  {
   "cell_type": "code",
   "execution_count": null,
   "id": "fc2edb82-1d5a-49c2-94ff-9cc374e35f0a",
   "metadata": {},
   "outputs": [],
   "source": [
    "#bibliotecas que talvez serão usadas\n",
    "\n",
    "!pip install geopandas libpysal esda splot statsmodels\n",
    "import geopandas as gpd\n",
    "import libpysal as lps\n",
    "import esda\n",
    "import splot.esda as splot\n",
    "import numpy as np\n",
    "import matplotlib.pyplot as plt\n",
    "import pandas as pd\n",
    "import seaborn as sns"
   ]
  },
  {
   "cell_type": "code",
   "execution_count": null,
   "id": "2de376d2-608f-4ddc-b77c-bdc4c8ba34d3",
   "metadata": {},
   "outputs": [],
   "source": [
    "#gráfico de frequências para os 10 cursos que mais foram concedidos bolsas para o ano de 2020\n",
    "cursos_10_mais_frequentes = df[\"NOME_CURSO_BOLSA\"].value_counts().nlargest(10)\n",
    "\n",
    "plt.figure(figsize=(12, 6))\n",
    "sns.barplot(x=cursos_10_mais_frequentes.values, y=cursos_10_mais_frequentes.index, palette=\"viridis\")\n",
    "\n",
    "# Configurações do gráfico\n",
    "plt.xlabel(\"Número de Bolsas\")\n",
    "plt.ylabel(\"Curso\")\n",
    "plt.title(\"Top 10 Cursos com Mais Bolsas no Prouni (2020)\")\n",
    "plt.show()"
   ]
  },
  {
   "cell_type": "code",
   "execution_count": null,
   "id": "8d3583ac-d187-4659-8857-372a7aeb4476",
   "metadata": {},
   "outputs": [],
   "source": [
    "#Gráfico por tipo de bolsa\n",
    "Tipo_de_bolsa = df[\"TIPO_BOLSA\"].value_counts().nlargest(2)\n",
    "\n",
    "plt.figure(figsize=(6, 3))\n",
    "sns.barplot(x=Tipo_de_bolsa.values, y=Tipo_de_bolsa.index, palette=\"viridis\")\n",
    "\n",
    "# Configurações do gráfico\n",
    "plt.xlabel(\"Número de Bolsas\")\n",
    "plt.ylabel(\"Tipo\")\n",
    "plt.title(\"Quantidade de Bolsas por Tipo(2020)\")\n",
    "plt.show()"
   ]
  },
  {
   "cell_type": "code",
   "execution_count": null,
   "id": "a9f10f85-7944-4b9a-a201-172a9967b5be",
   "metadata": {
    "scrolled": true
   },
   "outputs": [],
   "source": [
    "#Gráfico por região do Brasil\n",
    "Regiao = df[\"REGIAO_BENEFICIARIO\"].value_counts().nlargest()\n",
    "\n",
    "plt.figure(figsize=(6, 3))\n",
    "sns.barplot(x=Regiao.values, y=Regiao.index, palette=\"viridis\")\n",
    "\n",
    "# Configurações do gráfico\n",
    "plt.xlabel(\"Número de Bolsas\")\n",
    "plt.ylabel(\"Região\")\n",
    "plt.title(\"Quantidade de Bolsas por Região(2020)\")\n",
    "plt.show()"
   ]
  },
  {
   "cell_type": "code",
   "execution_count": null,
   "id": "1451f011-1a66-4019-b414-a18ae5efb4d9",
   "metadata": {
    "scrolled": true
   },
   "outputs": [],
   "source": [
    "#Gráfico por tipo de ensino Presencial(Matutino, Verpertino, Noturno ou Integral vs EAD\n",
    "tipo_turno = df[\"NOME_TURNO_CURSO_BOLSA\"].value_counts().nlargest()\n",
    "\n",
    "plt.figure(figsize=(12, 6))\n",
    "sns.barplot(x=tipo_turno.values, y=tipo_turno.index, palette=\"viridis\")\n",
    "\n",
    "# Configurações do gráfico\n",
    "plt.xlabel(\"Número de Bolsas\")\n",
    "plt.ylabel(\"Turno\")\n",
    "plt.title(\"Quantidade de Bolsas por Turno(2020)\")\n",
    "plt.show()"
   ]
  },
  {
   "cell_type": "code",
   "execution_count": null,
   "id": "a9de079b-a28d-4dc6-8183-c12d0ea88290",
   "metadata": {},
   "outputs": [],
   "source": []
  }
 ],
 "metadata": {
  "kernelspec": {
   "display_name": "Python [conda env:base] *",
   "language": "python",
   "name": "conda-base-py"
  },
  "language_info": {
   "codemirror_mode": {
    "name": "ipython",
    "version": 3
   },
   "file_extension": ".py",
   "mimetype": "text/x-python",
   "name": "python",
   "nbconvert_exporter": "python",
   "pygments_lexer": "ipython3",
   "version": "3.12.7"
  }
 },
 "nbformat": 4,
 "nbformat_minor": 5
}
